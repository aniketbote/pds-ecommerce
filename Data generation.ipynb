{
 "cells": [
  {
   "cell_type": "code",
   "execution_count": 17,
   "id": "bcb34322",
   "metadata": {},
   "outputs": [],
   "source": [
    "import pandas as pd\n",
    "import numpy as np"
   ]
  },
  {
   "cell_type": "code",
   "execution_count": 18,
   "id": "0efdffc0",
   "metadata": {},
   "outputs": [
    {
     "data": {
      "text/html": [
       "<div>\n",
       "<style scoped>\n",
       "    .dataframe tbody tr th:only-of-type {\n",
       "        vertical-align: middle;\n",
       "    }\n",
       "\n",
       "    .dataframe tbody tr th {\n",
       "        vertical-align: top;\n",
       "    }\n",
       "\n",
       "    .dataframe thead th {\n",
       "        text-align: right;\n",
       "    }\n",
       "</style>\n",
       "<table border=\"1\" class=\"dataframe\">\n",
       "  <thead>\n",
       "    <tr style=\"text-align: right;\">\n",
       "      <th></th>\n",
       "      <th>Card_Number</th>\n",
       "    </tr>\n",
       "  </thead>\n",
       "  <tbody>\n",
       "    <tr>\n",
       "      <th>0</th>\n",
       "      <td>2357-9896-6403-5970</td>\n",
       "    </tr>\n",
       "    <tr>\n",
       "      <th>1</th>\n",
       "      <td>6514-4444-5642-2615</td>\n",
       "    </tr>\n",
       "    <tr>\n",
       "      <th>2</th>\n",
       "      <td>4783-2852-8264-4966</td>\n",
       "    </tr>\n",
       "    <tr>\n",
       "      <th>3</th>\n",
       "      <td>4856-2191-9879-6388</td>\n",
       "    </tr>\n",
       "    <tr>\n",
       "      <th>4</th>\n",
       "      <td>4138-5166-7490-1188</td>\n",
       "    </tr>\n",
       "    <tr>\n",
       "      <th>...</th>\n",
       "      <td>...</td>\n",
       "    </tr>\n",
       "    <tr>\n",
       "      <th>95</th>\n",
       "      <td>7837-4036-5999-1672</td>\n",
       "    </tr>\n",
       "    <tr>\n",
       "      <th>96</th>\n",
       "      <td>3652-5528-4808-8216</td>\n",
       "    </tr>\n",
       "    <tr>\n",
       "      <th>97</th>\n",
       "      <td>7658-7645-4568-1461</td>\n",
       "    </tr>\n",
       "    <tr>\n",
       "      <th>98</th>\n",
       "      <td>4093-1634-8086-4601</td>\n",
       "    </tr>\n",
       "    <tr>\n",
       "      <th>99</th>\n",
       "      <td>8231-5519-1948-3400</td>\n",
       "    </tr>\n",
       "  </tbody>\n",
       "</table>\n",
       "<p>100 rows × 1 columns</p>\n",
       "</div>"
      ],
      "text/plain": [
       "            Card_Number\n",
       "0   2357-9896-6403-5970\n",
       "1   6514-4444-5642-2615\n",
       "2   4783-2852-8264-4966\n",
       "3   4856-2191-9879-6388\n",
       "4   4138-5166-7490-1188\n",
       "..                  ...\n",
       "95  7837-4036-5999-1672\n",
       "96  3652-5528-4808-8216\n",
       "97  7658-7645-4568-1461\n",
       "98  4093-1634-8086-4601\n",
       "99  8231-5519-1948-3400\n",
       "\n",
       "[100 rows x 1 columns]"
      ]
     },
     "execution_count": 18,
     "metadata": {},
     "output_type": "execute_result"
    }
   ],
   "source": [
    "names_df = pd.read_csv(\"raw_data/Names.csv\",usecols = [0,1])\n",
    "address_df = pd.read_csv(\"raw_data/address.csv\").sample(100, random_state = 2022, ignore_index = True)\n",
    "cardno_df = pd.read_csv(\"raw_data/cardno.csv\",usecols = [0]).sample(100, random_state = 2022, ignore_index = True)\n",
    "cardno_df"
   ]
  },
  {
   "cell_type": "markdown",
   "id": "09cfac97",
   "metadata": {},
   "source": [
    "### Customers data"
   ]
  },
  {
   "cell_type": "markdown",
   "id": "fb93af25",
   "metadata": {},
   "source": [
    "**Names attribute**"
   ]
  },
  {
   "cell_type": "code",
   "execution_count": 19,
   "id": "d9963f4d",
   "metadata": {
    "scrolled": true
   },
   "outputs": [
    {
     "data": {
      "text/html": [
       "<div>\n",
       "<style scoped>\n",
       "    .dataframe tbody tr th:only-of-type {\n",
       "        vertical-align: middle;\n",
       "    }\n",
       "\n",
       "    .dataframe tbody tr th {\n",
       "        vertical-align: top;\n",
       "    }\n",
       "\n",
       "    .dataframe thead th {\n",
       "        text-align: right;\n",
       "    }\n",
       "</style>\n",
       "<table border=\"1\" class=\"dataframe\">\n",
       "  <thead>\n",
       "    <tr style=\"text-align: right;\">\n",
       "      <th></th>\n",
       "      <th>fname</th>\n",
       "      <th>lname</th>\n",
       "    </tr>\n",
       "  </thead>\n",
       "  <tbody>\n",
       "    <tr>\n",
       "      <th>0</th>\n",
       "      <td>Mechelle</td>\n",
       "      <td>Stoneman</td>\n",
       "    </tr>\n",
       "    <tr>\n",
       "      <th>1</th>\n",
       "      <td>Tyesha</td>\n",
       "      <td>Freitag</td>\n",
       "    </tr>\n",
       "    <tr>\n",
       "      <th>2</th>\n",
       "      <td>Dean</td>\n",
       "      <td>Stoecker</td>\n",
       "    </tr>\n",
       "    <tr>\n",
       "      <th>3</th>\n",
       "      <td>Annelle</td>\n",
       "      <td>Pickney</td>\n",
       "    </tr>\n",
       "    <tr>\n",
       "      <th>4</th>\n",
       "      <td>Margareta</td>\n",
       "      <td>Tacy</td>\n",
       "    </tr>\n",
       "    <tr>\n",
       "      <th>...</th>\n",
       "      <td>...</td>\n",
       "      <td>...</td>\n",
       "    </tr>\n",
       "    <tr>\n",
       "      <th>95</th>\n",
       "      <td>Glenda</td>\n",
       "      <td>Woolfolk</td>\n",
       "    </tr>\n",
       "    <tr>\n",
       "      <th>96</th>\n",
       "      <td>Alyson</td>\n",
       "      <td>Hosack</td>\n",
       "    </tr>\n",
       "    <tr>\n",
       "      <th>97</th>\n",
       "      <td>Francis</td>\n",
       "      <td>Sines</td>\n",
       "    </tr>\n",
       "    <tr>\n",
       "      <th>98</th>\n",
       "      <td>Riley</td>\n",
       "      <td>Bagnall</td>\n",
       "    </tr>\n",
       "    <tr>\n",
       "      <th>99</th>\n",
       "      <td>Carmina</td>\n",
       "      <td>Camp</td>\n",
       "    </tr>\n",
       "  </tbody>\n",
       "</table>\n",
       "<p>100 rows × 2 columns</p>\n",
       "</div>"
      ],
      "text/plain": [
       "        fname     lname\n",
       "0    Mechelle  Stoneman\n",
       "1      Tyesha   Freitag\n",
       "2        Dean  Stoecker\n",
       "3     Annelle   Pickney\n",
       "4   Margareta      Tacy\n",
       "..        ...       ...\n",
       "95     Glenda  Woolfolk\n",
       "96     Alyson    Hosack\n",
       "97    Francis     Sines\n",
       "98      Riley   Bagnall\n",
       "99    Carmina      Camp\n",
       "\n",
       "[100 rows x 2 columns]"
      ]
     },
     "execution_count": 19,
     "metadata": {},
     "output_type": "execute_result"
    }
   ],
   "source": [
    "customer_df = names_df.iloc[:100,:].copy()\n",
    "customer_df.rename(columns = {'First Name': \"fname\", \"Last Name\": \"lname\"}, inplace = True)\n",
    "customer_df"
   ]
  },
  {
   "cell_type": "markdown",
   "id": "db997335",
   "metadata": {},
   "source": [
    "**id, age, email, address**"
   ]
  },
  {
   "cell_type": "code",
   "execution_count": 20,
   "id": "c1b2837c",
   "metadata": {},
   "outputs": [],
   "source": [
    "np.random.seed(2022)\n",
    "email_suffix = ['@yahoo.com', '@gmail.com', '@hotmail.com', '@nyu.edu']\n",
    "email_suffix_list = np.random.choice(email_suffix,100)\n",
    "\n",
    "age = np.random.randint(18, 60, 100)\n",
    "# print(age)\n",
    "\n",
    "cid = np.random.randint(111111, 999999, 100)\n",
    "# print(cid)\n",
    "\n",
    "email_list = [f.lower()+l.lower()+e for f,l,e in zip(customer_df['fname'], customer_df['lname'], email_suffix_list)]\n",
    "# print(email_list)\n",
    "\n",
    "address_list = [', '.join(val) for val in address_df.astype(str).values.tolist()]\n",
    "# print(address_list)\n",
    "\n",
    "\n",
    "customer_df['customer_id'] = cid\n",
    "customer_df['age'] = age\n",
    "customer_df['email'] = email_list\n",
    "customer_df['address'] = address_list"
   ]
  },
  {
   "cell_type": "code",
   "execution_count": 21,
   "id": "11a334b8",
   "metadata": {},
   "outputs": [],
   "source": [
    "customer_df = customer_df[['customer_id', 'fname', 'lname', 'age', 'email', 'address']]"
   ]
  },
  {
   "cell_type": "code",
   "execution_count": 216,
   "id": "20ccee8b",
   "metadata": {},
   "outputs": [],
   "source": [
    "customer_df.to_csv('final_data/Customers.csv', index = False)"
   ]
  },
  {
   "cell_type": "markdown",
   "id": "b3ba8a64",
   "metadata": {},
   "source": [
    "## Cards data"
   ]
  },
  {
   "cell_type": "code",
   "execution_count": 213,
   "id": "0815429f",
   "metadata": {},
   "outputs": [],
   "source": [
    "np.random.seed(2022)\n",
    "customer_sample = customer_df.sample(100, replace = True, random_state = 2022)\n",
    "\n",
    "expiry_month = np.random.randint(1,13, 100)\n",
    "# print(expiry_month)\n",
    "\n",
    "expiry_year = np.random.randint(2024,2030, 100)\n",
    "# print(expiry_year)\n",
    "\n",
    "\n",
    "cards_df = pd.DataFrame()\n",
    "cards_df['card_number'] = [''.join(val.strip().split('-')) for val in cardno_df['Card_Number']]\n",
    "cards_df['customer_id'] = list(customer_sample['customer_id'])\n",
    "cards_df['billing_address'] = list(customer_sample['address'])\n",
    "cards_df['expiry_month'] = expiry_month\n",
    "cards_df['expiry_year'] = expiry_year\n"
   ]
  },
  {
   "cell_type": "code",
   "execution_count": 214,
   "id": "7f083e74",
   "metadata": {},
   "outputs": [],
   "source": [
    "cards_df.to_csv('final_data/HasCards.csv', index = False)"
   ]
  },
  {
   "cell_type": "markdown",
   "id": "f63313df",
   "metadata": {},
   "source": [
    "## Sold by"
   ]
  },
  {
   "cell_type": "code",
   "execution_count": 3,
   "id": "5558ffbc",
   "metadata": {},
   "outputs": [],
   "source": [
    "product_df = pd.read_csv('final_data/products.csv')\n",
    "seller_df = pd.read_csv('final_data/sellers.csv')"
   ]
  },
  {
   "cell_type": "code",
   "execution_count": 16,
   "id": "ceb92e39",
   "metadata": {},
   "outputs": [],
   "source": [
    "np.random.seed(2022)\n",
    "seller_id = np.random.choice(seller_df['seller_id'],len(product_df['product_id']))\n",
    "seller_id\n",
    "\n",
    "soldby_df = pd.DataFrame({'seller_id':seller_id, 'product_id':product_df['product_id']})\n",
    "soldby_df.to_csv('final_data/SoldBy.csv', index = False)"
   ]
  },
  {
   "cell_type": "markdown",
   "id": "f733652c",
   "metadata": {},
   "source": [
    "## Bought in"
   ]
  },
  {
   "cell_type": "code",
   "execution_count": 48,
   "id": "a6873979",
   "metadata": {},
   "outputs": [],
   "source": [
    "# import uuid\n",
    "# uuids = [uuid.uuid4().hex for i in range(1000)]\n",
    "# uuid_df = pd.DataFrame({'uuid':uuids})\n",
    "# uuid_df.to_csv('final_data/uuid.csv', index = False)"
   ]
  },
  {
   "cell_type": "code",
   "execution_count": 92,
   "id": "22a4eea9",
   "metadata": {},
   "outputs": [],
   "source": [
    "uuid_df = pd.read_csv('final_data/uuid.csv')\n",
    "product_df = pd.read_csv('final_data/products.csv')"
   ]
  },
  {
   "cell_type": "code",
   "execution_count": 114,
   "id": "291c3466",
   "metadata": {},
   "outputs": [],
   "source": [
    "np.random.seed(2022)\n",
    "n_order = 40\n",
    "gen_order_id = list(uuid_df['uuid'][:n_order].values)\n",
    "n_items = np.random.randint(1, 11, size = n_order)\n",
    "\n",
    "order_id = []\n",
    "product_id = []\n",
    "quantity = []\n",
    "\n",
    "for _id, _ni in zip(gen_order_id, n_items):\n",
    "    t_products = np.random.choice(product_df['product_id'], _ni, replace = False)\n",
    "    t_quantity = np.random.randint(1, 50, size = _ni)\n",
    "    for i in range(_ni):    \n",
    "        order_id.append(_id)\n",
    "        product_id.append(t_products[i])\n",
    "        quantity.append(t_quantity[i])\n",
    "        \n",
    "boughtin_df = pd.DataFrame({'order_id':order_id, 'product_id':product_id, 'quantity':quantity})\n",
    "boughtin_df.to_csv('final_data/boughtin.csv', index = False)"
   ]
  },
  {
   "cell_type": "markdown",
   "id": "e170f082",
   "metadata": {},
   "source": [
    "## Shipped from"
   ]
  },
  {
   "cell_type": "code",
   "execution_count": 116,
   "id": "3127f194",
   "metadata": {},
   "outputs": [],
   "source": [
    "uuid_df = pd.read_csv('final_data/uuid.csv')"
   ]
  },
  {
   "cell_type": "code",
   "execution_count": 154,
   "id": "56129e5b",
   "metadata": {},
   "outputs": [],
   "source": [
    "np.random.seed(2022)\n",
    "n_order = 40\n",
    "gen_order_id = list(uuid_df['uuid'][:n_order].values)\n",
    "\n",
    "\n",
    "warehouse = [{'name':'C-bay Warehouse1', 'location': '3412-3416 Garfield Avenue Commerce, CA 90040', 'zipcode':90040}, \n",
    "             {'name':'C-bay Warehouse2', 'location': '135 West 36th Street, New York, NY, 10018', 'zipcode':10018}]\n",
    "\n",
    "all_warehouses = np.random.choice(warehouse, size = len(gen_order_id))\n",
    "\n",
    "\n",
    "ware_name = [ent['name'] for ent in all_warehouses]\n",
    "ware_loc = [ent['location'] for ent in all_warehouses]\n",
    "ware_zip = [ent['zipcode'] for ent in all_warehouses]\n",
    "\n",
    "shippedfrom_df = pd.DataFrame({'order_id':gen_order_id, 'name':ware_name, 'location': ware_loc, 'zipcode':ware_zip})\n",
    "shippedfrom_df.to_csv('final_data/ShippedFromWarehouse.csv', index = False)"
   ]
  },
  {
   "cell_type": "markdown",
   "id": "1ab3e969",
   "metadata": {},
   "source": [
    "## ordered by"
   ]
  },
  {
   "cell_type": "markdown",
   "id": "cff83910",
   "metadata": {},
   "source": [
    "Create table OrderedByappliedon(\n",
    "\torder_id varchar(16) primary key,\n",
    "    customer_id varchar(20) not null,\n",
    "\torder_placed_on date not null,\n",
    "\ttotal_amount real not null,\n",
    "\ttax_amount real not null,\n",
    "\tdelivery_charges real not null,\n",
    "\tbilled_amount real not null,\n",
    "\tcoupon_id varchar(16),\n",
    "\tforeign key(coupon_id) references  Coupons(Coupon_id)\n",
    "\tForeign key (customer_id) references Customers(customer_id)\n",
    ");\n"
   ]
  },
  {
   "cell_type": "code",
   "execution_count": 226,
   "id": "b907c2f7",
   "metadata": {},
   "outputs": [],
   "source": [
    "uuid_df = pd.read_csv('final_data/uuid.csv')\n",
    "customer_df = pd.read_csv('final_data/Customers.csv')\n",
    "coupon_df = pd.read_csv('final_data/coupons.csv')"
   ]
  },
  {
   "cell_type": "code",
   "execution_count": 283,
   "id": "c6811c39",
   "metadata": {},
   "outputs": [],
   "source": [
    "np.random.seed(2022)\n",
    "from faker import Faker\n",
    "fake = Faker()\n",
    "Faker.seed(2022)\n",
    "\n",
    "n_order = 40\n",
    "gen_order_id = list(uuid_df['uuid'][:n_order].values)\n",
    "\n",
    "gen_customer_id = np.random.choice(customer_df['customer_id'], size = n_order)\n",
    "gen_order_date = [fake.date_between(start_date='-2y', end_date='now').strftime('%m-%d-%Y') for i in range(40)]\n",
    "\n",
    "order_coupon = np.random.choice(coupon_df['coupon_id'], size = n_order)\n",
    "\n",
    "ORDER = uuid_df[:40]\n",
    "or_bo = pd.merge(ORDER, boughtin_df, left_on = 'uuid', right_on = 'order_id')\n",
    "or_bo_pro = pd.merge(or_bo, product_df, left_on = 'product_id', right_on = 'product_id')\n",
    "or_bo_pro_df = or_bo_pro[['order_id','product_id', 'quantity', 'price']].copy()\n",
    "or_bo_pro_df['total_amount'] = or_bo_pro_df['quantity'] * or_bo_pro_df['price']\n",
    "order_total = or_bo_pro_df[['order_id','total_amount']].groupby('order_id').sum().reset_index()\n",
    "\n",
    "order_total['customer_id'] = gen_customer_id\n",
    "order_total['order_placed_on'] = gen_order_date\n",
    "order_total['tax_amount'] = order_total['total_amount'] * 0.18\n",
    "order_total['delivery_charges'] = order_total['total_amount'] * 0.05\n",
    "\n",
    "billed_ammount = []\n",
    "rand_coupon = []\n",
    "for c, t in zip(order_coupon, (order_total['total_amount'] + order_total['tax_amount'] + order_total['delivery_charges'])):\n",
    "    if np.random.choice([True, False]):\n",
    "        rand_coupon.append(c)\n",
    "        dis = coupon_df[coupon_df['coupon_id'] == c]['discount'].values[0]\n",
    "        billed = t - t*dis\n",
    "        billed_ammount.append(billed)\n",
    "        \n",
    "    else:\n",
    "        rand_coupon.append('')\n",
    "        billed_ammount.append(t)\n",
    "    \n",
    "\n",
    "order_total['coupon_id'] = rand_coupon\n",
    "order_total['billed_amount'] = billed_ammount\n",
    "\n",
    "orderedby_df = order_total[['order_id', 'customer_id', 'order_placed_on', 'total_amount', 'tax_amount','delivery_charges', 'billed_amount', 'coupon_id']]\n",
    "\n",
    "orderedby_df.to_csv('final_data/OrderedByappliedon.csv', index = False)"
   ]
  },
  {
   "cell_type": "code",
   "execution_count": 275,
   "id": "1f35aa45",
   "metadata": {},
   "outputs": [
    {
     "data": {
      "text/plain": [
       "0.08"
      ]
     },
     "execution_count": 275,
     "metadata": {},
     "output_type": "execute_result"
    }
   ],
   "source": [
    "\n",
    "coupon_df[coupon_df['coupon_id'] == 'WAFANK']['discount'].values[0]"
   ]
  },
  {
   "cell_type": "code",
   "execution_count": 276,
   "id": "226e802d",
   "metadata": {},
   "outputs": [
    {
     "data": {
      "text/plain": [
       "3258.64"
      ]
     },
     "execution_count": 276,
     "metadata": {},
     "output_type": "execute_result"
    }
   ],
   "source": [
    "3542 - 3542*0.08"
   ]
  },
  {
   "cell_type": "code",
   "execution_count": null,
   "id": "6b071035",
   "metadata": {},
   "outputs": [],
   "source": []
  }
 ],
 "metadata": {
  "kernelspec": {
   "display_name": "Python 3 (ipykernel)",
   "language": "python",
   "name": "python3"
  },
  "language_info": {
   "codemirror_mode": {
    "name": "ipython",
    "version": 3
   },
   "file_extension": ".py",
   "mimetype": "text/x-python",
   "name": "python",
   "nbconvert_exporter": "python",
   "pygments_lexer": "ipython3",
   "version": "3.10.6"
  }
 },
 "nbformat": 4,
 "nbformat_minor": 5
}
