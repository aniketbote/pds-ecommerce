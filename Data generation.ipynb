{
 "cells": [
  {
   "cell_type": "code",
   "execution_count": 200,
   "id": "bcb34322",
   "metadata": {},
   "outputs": [],
   "source": [
    "import pandas as pd\n",
    "import numpy as np"
   ]
  },
  {
   "cell_type": "code",
   "execution_count": 201,
   "id": "0efdffc0",
   "metadata": {},
   "outputs": [
    {
     "data": {
      "text/html": [
       "<div>\n",
       "<style scoped>\n",
       "    .dataframe tbody tr th:only-of-type {\n",
       "        vertical-align: middle;\n",
       "    }\n",
       "\n",
       "    .dataframe tbody tr th {\n",
       "        vertical-align: top;\n",
       "    }\n",
       "\n",
       "    .dataframe thead th {\n",
       "        text-align: right;\n",
       "    }\n",
       "</style>\n",
       "<table border=\"1\" class=\"dataframe\">\n",
       "  <thead>\n",
       "    <tr style=\"text-align: right;\">\n",
       "      <th></th>\n",
       "      <th>Card_Number</th>\n",
       "    </tr>\n",
       "  </thead>\n",
       "  <tbody>\n",
       "    <tr>\n",
       "      <th>0</th>\n",
       "      <td>2357-9896-6403-5970</td>\n",
       "    </tr>\n",
       "    <tr>\n",
       "      <th>1</th>\n",
       "      <td>6514-4444-5642-2615</td>\n",
       "    </tr>\n",
       "    <tr>\n",
       "      <th>2</th>\n",
       "      <td>4783-2852-8264-4966</td>\n",
       "    </tr>\n",
       "    <tr>\n",
       "      <th>3</th>\n",
       "      <td>4856-2191-9879-6388</td>\n",
       "    </tr>\n",
       "    <tr>\n",
       "      <th>4</th>\n",
       "      <td>4138-5166-7490-1188</td>\n",
       "    </tr>\n",
       "    <tr>\n",
       "      <th>...</th>\n",
       "      <td>...</td>\n",
       "    </tr>\n",
       "    <tr>\n",
       "      <th>95</th>\n",
       "      <td>7837-4036-5999-1672</td>\n",
       "    </tr>\n",
       "    <tr>\n",
       "      <th>96</th>\n",
       "      <td>3652-5528-4808-8216</td>\n",
       "    </tr>\n",
       "    <tr>\n",
       "      <th>97</th>\n",
       "      <td>7658-7645-4568-1461</td>\n",
       "    </tr>\n",
       "    <tr>\n",
       "      <th>98</th>\n",
       "      <td>4093-1634-8086-4601</td>\n",
       "    </tr>\n",
       "    <tr>\n",
       "      <th>99</th>\n",
       "      <td>8231-5519-1948-3400</td>\n",
       "    </tr>\n",
       "  </tbody>\n",
       "</table>\n",
       "<p>100 rows × 1 columns</p>\n",
       "</div>"
      ],
      "text/plain": [
       "            Card_Number\n",
       "0   2357-9896-6403-5970\n",
       "1   6514-4444-5642-2615\n",
       "2   4783-2852-8264-4966\n",
       "3   4856-2191-9879-6388\n",
       "4   4138-5166-7490-1188\n",
       "..                  ...\n",
       "95  7837-4036-5999-1672\n",
       "96  3652-5528-4808-8216\n",
       "97  7658-7645-4568-1461\n",
       "98  4093-1634-8086-4601\n",
       "99  8231-5519-1948-3400\n",
       "\n",
       "[100 rows x 1 columns]"
      ]
     },
     "execution_count": 201,
     "metadata": {},
     "output_type": "execute_result"
    }
   ],
   "source": [
    "names_df = pd.read_csv(\"raw_data/Names.csv\",usecols = [0,1])\n",
    "address_df = pd.read_csv(\"raw_data/address.csv\").sample(100, random_state = 2022, ignore_index = True)\n",
    "cardno_df = pd.read_csv(\"raw_data/cardno.csv\",usecols = [0]).sample(100, random_state = 2022, ignore_index = True)\n",
    "cardno_df"
   ]
  },
  {
   "cell_type": "markdown",
   "id": "09cfac97",
   "metadata": {},
   "source": [
    "### Customers data"
   ]
  },
  {
   "cell_type": "markdown",
   "id": "fb93af25",
   "metadata": {},
   "source": [
    "**Names attribute**"
   ]
  },
  {
   "cell_type": "code",
   "execution_count": 202,
   "id": "d9963f4d",
   "metadata": {
    "scrolled": true
   },
   "outputs": [
    {
     "data": {
      "text/html": [
       "<div>\n",
       "<style scoped>\n",
       "    .dataframe tbody tr th:only-of-type {\n",
       "        vertical-align: middle;\n",
       "    }\n",
       "\n",
       "    .dataframe tbody tr th {\n",
       "        vertical-align: top;\n",
       "    }\n",
       "\n",
       "    .dataframe thead th {\n",
       "        text-align: right;\n",
       "    }\n",
       "</style>\n",
       "<table border=\"1\" class=\"dataframe\">\n",
       "  <thead>\n",
       "    <tr style=\"text-align: right;\">\n",
       "      <th></th>\n",
       "      <th>fname</th>\n",
       "      <th>lname</th>\n",
       "    </tr>\n",
       "  </thead>\n",
       "  <tbody>\n",
       "    <tr>\n",
       "      <th>0</th>\n",
       "      <td>Mechelle</td>\n",
       "      <td>Stoneman</td>\n",
       "    </tr>\n",
       "    <tr>\n",
       "      <th>1</th>\n",
       "      <td>Tyesha</td>\n",
       "      <td>Freitag</td>\n",
       "    </tr>\n",
       "    <tr>\n",
       "      <th>2</th>\n",
       "      <td>Dean</td>\n",
       "      <td>Stoecker</td>\n",
       "    </tr>\n",
       "    <tr>\n",
       "      <th>3</th>\n",
       "      <td>Annelle</td>\n",
       "      <td>Pickney</td>\n",
       "    </tr>\n",
       "    <tr>\n",
       "      <th>4</th>\n",
       "      <td>Margareta</td>\n",
       "      <td>Tacy</td>\n",
       "    </tr>\n",
       "    <tr>\n",
       "      <th>...</th>\n",
       "      <td>...</td>\n",
       "      <td>...</td>\n",
       "    </tr>\n",
       "    <tr>\n",
       "      <th>95</th>\n",
       "      <td>Glenda</td>\n",
       "      <td>Woolfolk</td>\n",
       "    </tr>\n",
       "    <tr>\n",
       "      <th>96</th>\n",
       "      <td>Alyson</td>\n",
       "      <td>Hosack</td>\n",
       "    </tr>\n",
       "    <tr>\n",
       "      <th>97</th>\n",
       "      <td>Francis</td>\n",
       "      <td>Sines</td>\n",
       "    </tr>\n",
       "    <tr>\n",
       "      <th>98</th>\n",
       "      <td>Riley</td>\n",
       "      <td>Bagnall</td>\n",
       "    </tr>\n",
       "    <tr>\n",
       "      <th>99</th>\n",
       "      <td>Carmina</td>\n",
       "      <td>Camp</td>\n",
       "    </tr>\n",
       "  </tbody>\n",
       "</table>\n",
       "<p>100 rows × 2 columns</p>\n",
       "</div>"
      ],
      "text/plain": [
       "        fname     lname\n",
       "0    Mechelle  Stoneman\n",
       "1      Tyesha   Freitag\n",
       "2        Dean  Stoecker\n",
       "3     Annelle   Pickney\n",
       "4   Margareta      Tacy\n",
       "..        ...       ...\n",
       "95     Glenda  Woolfolk\n",
       "96     Alyson    Hosack\n",
       "97    Francis     Sines\n",
       "98      Riley   Bagnall\n",
       "99    Carmina      Camp\n",
       "\n",
       "[100 rows x 2 columns]"
      ]
     },
     "execution_count": 202,
     "metadata": {},
     "output_type": "execute_result"
    }
   ],
   "source": [
    "customer_df = names_df.iloc[:100,:].copy()\n",
    "customer_df.rename(columns = {'First Name': \"fname\", \"Last Name\": \"lname\"}, inplace = True)\n",
    "customer_df"
   ]
  },
  {
   "cell_type": "markdown",
   "id": "db997335",
   "metadata": {},
   "source": [
    "**id, age, email, address**"
   ]
  },
  {
   "cell_type": "code",
   "execution_count": 203,
   "id": "c1b2837c",
   "metadata": {},
   "outputs": [],
   "source": [
    "np.random.seed(2022)\n",
    "email_suffix = ['@yahoo.com', '@gmail.com', '@hotmail.com', '@nyu.edu']\n",
    "email_suffix_list = np.random.choice(email_suffix,100)\n",
    "\n",
    "age = np.random.randint(18, 60, 100)\n",
    "# print(age)\n",
    "\n",
    "cid = np.random.randint(111111, 999999, 100)\n",
    "# print(cid)\n",
    "\n",
    "email_list = [f.lower()+l.lower()+e for f,l,e in zip(customer_df['fname'], customer_df['lname'], email_suffix_list)]\n",
    "# print(email_list)\n",
    "\n",
    "address_list = [', '.join(val) for val in address_df.astype(str).values.tolist()]\n",
    "# print(address_list)\n",
    "\n",
    "\n",
    "customer_df['customer_id'] = cid\n",
    "customer_df['age'] = age\n",
    "customer_df['email'] = email_list\n",
    "customer_df['address'] = address_list"
   ]
  },
  {
   "cell_type": "code",
   "execution_count": 215,
   "id": "11a334b8",
   "metadata": {},
   "outputs": [],
   "source": [
    "customer_df = customer_df[['customer_id', 'fname', 'lname', 'age', 'email', 'address']]"
   ]
  },
  {
   "cell_type": "code",
   "execution_count": 216,
   "id": "20ccee8b",
   "metadata": {},
   "outputs": [],
   "source": [
    "customer_df.to_csv('final_data/Customers.csv', index = False)"
   ]
  },
  {
   "cell_type": "markdown",
   "id": "b3ba8a64",
   "metadata": {},
   "source": [
    "## Cards data"
   ]
  },
  {
   "cell_type": "code",
   "execution_count": 213,
   "id": "0815429f",
   "metadata": {},
   "outputs": [],
   "source": [
    "np.random.seed(2022)\n",
    "customer_sample = customer_df.sample(100, replace = True, random_state = 2022)\n",
    "\n",
    "expiry_month = np.random.randint(1,13, 100)\n",
    "# print(expiry_month)\n",
    "\n",
    "expiry_year = np.random.randint(2024,2030, 100)\n",
    "# print(expiry_year)\n",
    "\n",
    "\n",
    "cards_df = pd.DataFrame()\n",
    "cards_df['card_number'] = [''.join(val.strip().split('-')) for val in cardno_df['Card_Number']]\n",
    "cards_df['customer_id'] = list(customer_sample['customer_id'])\n",
    "cards_df['billing_address'] = list(customer_sample['address'])\n",
    "cards_df['expiry_month'] = expiry_month\n",
    "cards_df['expiry_year'] = expiry_year\n"
   ]
  },
  {
   "cell_type": "code",
   "execution_count": 214,
   "id": "7f083e74",
   "metadata": {},
   "outputs": [],
   "source": [
    "cards_df.to_csv('final_data/HasCards.csv', index = False)"
   ]
  },
  {
   "cell_type": "code",
   "execution_count": null,
   "id": "2cb88c83",
   "metadata": {},
   "outputs": [],
   "source": []
  }
 ],
 "metadata": {
  "kernelspec": {
   "display_name": "Python 3 (ipykernel)",
   "language": "python",
   "name": "python3"
  },
  "language_info": {
   "codemirror_mode": {
    "name": "ipython",
    "version": 3
   },
   "file_extension": ".py",
   "mimetype": "text/x-python",
   "name": "python",
   "nbconvert_exporter": "python",
   "pygments_lexer": "ipython3",
   "version": "3.10.6"
  }
 },
 "nbformat": 4,
 "nbformat_minor": 5
}
